{
  "nbformat": 4,
  "nbformat_minor": 0,
  "metadata": {
    "colab": {
      "provenance": []
    },
    "kernelspec": {
      "name": "python3",
      "display_name": "Python 3"
    },
    "language_info": {
      "name": "python"
    }
  },
  "cells": [
    {
      "cell_type": "markdown",
      "source": [
        "DeepChem provides a platform for researchers working with PROTACs datasets, offering tools like graph convolutional networks and molecular featurization to analyze and predict key properties of these molecules.\n",
        "\n",
        "In this tutorial, we focus on using DeepChem to predict the Topological Polar Surface Area (TPSA) of molecules from their SMILES strings.\n",
        "\n",
        "TPSA is a crucial molecular property, informing on a compound's absorption and distribution characteristics, which are vital for drug design.\n",
        "\n"
      ],
      "metadata": {
        "id": "x2izXjvrlLqb"
      }
    },
    {
      "cell_type": "markdown",
      "source": [
        "Part 0. Introduction and limitation\n",
        "\n",
        "PROTAC stands for PROteolysis TArgeting Chimeras. These are a relatively new class of therapeutic agents that are designed not just to inhibit but to actually induce the degradation of target proteins within cells.\n",
        "\n",
        "Instead of merely blocking the activity of a disease-related protein, PROTACs recruit an E3 ubiquitin ligase to the target protein, leading to the protein’s ubiquitination and subsequent degradation by the proteasome. This mechanism allows for the removal of specific proteins from a cell and offers a precise approach that traditional small-molecule inhibitors or biologics might not achieve.\n",
        "\n",
        "![Proteolysis_targeting_chimera_mechanism.svg.png](data:image/png;base64,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)\n",
        "\n",
        "(Fig 1. Mechanism of action. E1, E2, E3 stand for ubiquitination enzymes; Ub stands for ubiquitin; target is the protein to be degraded [1](doi:10.1021/acschembio.7b00969))\n",
        "\n",
        "PROTACs can be given in smaller doses relative to their inhibitor counterparts. They often exhibit greater selectivity than these inhibitors, which minimizes unintended interactions with other proteins.\n",
        "\n",
        "PROTACs also have the capability to engage proteins that were once considered challenging to drugs, as they don't rely on binding to active sites. This characteristic also aids in circumventing the issue of drug resistance that frequently arises due to mutations in enzyme targets.\n",
        "\n",
        " However, PROTACs are complex molecules that require sophisticated modeling and simulation techniques to understand their behavior and interactions with biological targets.\n",
        "Given DeepChem's focus on molecular machine learning, challenges could potentially include: Accurately modeling the dynamic interactions between PROTACs and their protein targets; Dealing with the vast chemical space of bifunctional molecules, and integrating data from various sources to predict efficacy.\n",
        "\n",
        "Let's start the tutorial:"
      ],
      "metadata": {
        "id": "hbWPwNf7dK2m"
      }
    },
    {
      "cell_type": "markdown",
      "source": [
        "1. Setup Environment\n"
      ],
      "metadata": {
        "id": "0XiQqLEOWGQJ"
      }
    },
    {
      "cell_type": "code",
      "source": [
        "pip install deepchem"
      ],
      "metadata": {
        "id": "SMDyjYf-WKNR"
      },
      "execution_count": null,
      "outputs": []
    },
    {
      "cell_type": "markdown",
      "source": [],
      "metadata": {
        "id": "VyED9i3ClI_2"
      }
    },
    {
      "cell_type": "markdown",
      "source": [
        "Part 1: Setup and Data Preparation\n",
        "\n",
        "Step 1: Data Preparation\n",
        "\n",
        "  - Dataset File: The path to the CSV file containing the dataset. It should include at least two columns: one for the SMILES representation of molecules and another for the TPSA values.\n",
        "  - Dataset used here as example: [Compound Group AAK1, KIAA1048](http://cadd.zju.edu.cn/protacdb/downloads)\n",
        "  - Feature and Activity Fields: Identifies the columns in the dataset that contain the features ('Smiles') and the target variable ('Topological Polar Surface Area') for the prediction task."
      ],
      "metadata": {
        "id": "4N1aY_ZRWWNA"
      }
    },
    {
      "cell_type": "code",
      "source": [
        "import deepchem as dc\n",
        "import numpy as np\n",
        "\n",
        "dataset_file = '/content/AAK1.csv'  # Update with the correct path\n",
        "feature_field = \"Smiles\"\n",
        "activity_field = \"Topological Polar Surface Area\"\n",
        "tasks = [activity_field]"
      ],
      "metadata": {
        "id": "Gh8h2MqKIaUc"
      },
      "execution_count": null,
      "outputs": []
    },
    {
      "cell_type": "markdown",
      "source": [
        "Step 2: Featurization\n",
        "\n",
        "  - Featurizer: Converts the SMILES strings into a machine-usable format. The ConvMolFeaturizer is used here, which is suitable for graph-based models."
      ],
      "metadata": {
        "id": "BqBfgMoMInVi"
      }
    },
    {
      "cell_type": "code",
      "source": [
        "featurizer = dc.feat.ConvMolFeaturizer()\n",
        "loader = dc.data.CSVLoader(tasks=tasks, feature_field=feature_field, featurizer=featurizer)\n",
        "dataset = loader.create_dataset(dataset_file)"
      ],
      "metadata": {
        "id": "UWLxd_MHWXs1"
      },
      "execution_count": null,
      "outputs": []
    },
    {
      "cell_type": "markdown",
      "source": [
        "Step 3: Dataset Splitting\n",
        "\n",
        "  - Splitter: Divides the dataset into training, validation, and test sets. The RandomSplitter is used for a random split which is crucial for evaluating the model's performance on unseen data."
      ],
      "metadata": {
        "id": "_NGZj64yIvPR"
      }
    },
    {
      "cell_type": "code",
      "source": [
        "splitter = dc.splits.RandomSplitter()\n",
        "train_dataset, valid_dataset, test_dataset = splitter.train_valid_test_split(dataset)"
      ],
      "metadata": {
        "id": "DW9NvAQoIhOH"
      },
      "execution_count": null,
      "outputs": []
    },
    {
      "cell_type": "markdown",
      "source": [
        "Part 2: Model Building, Training, and Evaluation\n",
        "\n",
        "Step 4: Model Building\n",
        "\n",
        "  - Graph Convolutional Model: A type of neural network that directly works on graphs of molecules. It's initialized here for regression tasks, targeting the prediction of TPSA."
      ],
      "metadata": {
        "id": "rolqhR_RWuL7"
      }
    },
    {
      "cell_type": "code",
      "source": [
        "model = dc.models.GraphConvModel(n_tasks=len(tasks), mode='regression')"
      ],
      "metadata": {
        "id": "TLlV7m-NJvBY"
      },
      "execution_count": null,
      "outputs": []
    },
    {
      "cell_type": "markdown",
      "source": [
        "Step 5: Training\n",
        "\n",
        "  - Model Training: The model is trained on the training dataset for a specified number of epochs, allowing it to learn the relationship between the molecular features and TPSA values."
      ],
      "metadata": {
        "id": "_bBTgkeKJmDJ"
      }
    },
    {
      "cell_type": "code",
      "source": [
        "model.fit(train_dataset, nb_epoch=50)"
      ],
      "metadata": {
        "id": "ajuIbjSNJ46e",
        "colab": {
          "base_uri": "https://localhost:8080/"
        },
        "outputId": "1798c1ba-491d-4c5b-d956-8f57a07bd672"
      },
      "execution_count": null,
      "outputs": [
        {
          "output_type": "execute_result",
          "data": {
            "text/plain": [
              "8644.46375"
            ]
          },
          "metadata": {},
          "execution_count": 8
        }
      ]
    },
    {
      "cell_type": "markdown",
      "source": [
        "Step 6: Evaluation\n",
        "\n",
        "  - Metric: Uses the Pearson R^2 score to evaluate the model's performance. This metric assesses the correlation between the predicted and actual TPSA values across the training, validation, and test datasets."
      ],
      "metadata": {
        "id": "HcIwJOmMJofq"
      }
    },
    {
      "cell_type": "code",
      "source": [
        "metric = dc.metrics.Metric(dc.metrics.pearson_r2_score)\n",
        "print(\"Training set score:\", model.evaluate(train_dataset, [metric]))\n",
        "print(\"Validation set score:\", model.evaluate(valid_dataset, [metric]))\n",
        "print(\"Test set score:\", model.evaluate(test_dataset, [metric]))"
      ],
      "metadata": {
        "id": "uI3SEaSRJ7gW",
        "colab": {
          "base_uri": "https://localhost:8080/"
        },
        "outputId": "d37f4666-6cfc-47e3-cba2-e2b84c9aed15"
      },
      "execution_count": null,
      "outputs": [
        {
          "output_type": "stream",
          "name": "stdout",
          "text": [
            "Training set score: {'pearson_r2_score': 0.025807516130339204}\n",
            "Validation set score: {'pearson_r2_score': 1.0}\n",
            "Test set score: {'pearson_r2_score': 0.8622170152840211}\n"
          ]
        }
      ]
    },
    {
      "cell_type": "markdown",
      "source": [
        "Additional Evaluation\n",
        "\n",
        "  - Variance in Predictions and Labels: Calculating the variance of the model's predictions and the actual labels helps in understanding the model's learning behavior and the diversity of the dataset."
      ],
      "metadata": {
        "id": "Po4_DG-8JqeO"
      }
    },
    {
      "cell_type": "code",
      "source": [
        "train_predictions = model.predict(train_dataset)\n",
        "print(\"Variance in Train Predictions:\", np.var(train_predictions, axis=0))\n",
        "print(\"Variance in Train Labels:\", np.var(train_dataset.y, axis=0))\n"
      ],
      "metadata": {
        "id": "5O-K71PjWxE1",
        "colab": {
          "base_uri": "https://localhost:8080/"
        },
        "outputId": "266faf25-50c9-427a-9359-adc29920e2c9"
      },
      "execution_count": null,
      "outputs": [
        {
          "output_type": "stream",
          "name": "stdout",
          "text": [
            "Variance in Train Predictions: [0.916138]\n",
            "Variance in Train Labels: [725.66365329]\n"
          ]
        }
      ]
    },
    {
      "cell_type": "markdown",
      "source": [
        "Predictions"
      ],
      "metadata": {
        "id": "iE-CBBr6JgB_"
      }
    },
    {
      "cell_type": "code",
      "source": [
        "#Step 7: Generate predictions\n",
        "tpsas_predicted = model.predict_on_batch(test_dataset.X[:10])\n",
        "\n",
        "#Step 8: Display their SMILES, predicted TPSA, and actual TPSA\n",
        "for molecule, predicted_tpsa, actual_tpsa in zip(test_dataset.ids[:10], tpsas_predicted, test_dataset.y[:10]):\n",
        "    print(\"Predicted TPSA:\", predicted_tpsa[0], \"Actual TPSA:\", actual_tpsa[0], \"SMILES:\", molecule)\n"
      ],
      "metadata": {
        "colab": {
          "base_uri": "https://localhost:8080/"
        },
        "id": "mod9v9NTjZ1e",
        "outputId": "271361e0-9ef2-42b1-d9f6-ad8bab85ab1d"
      },
      "execution_count": null,
      "outputs": [
        {
          "output_type": "stream",
          "name": "stdout",
          "text": [
            "Predicted TPSA: 8.882188 Actual TPSA: 193.81 SMILES: CC1=C(C2=CC=C([C@H](C)NC(=O)[C@@H]3C[C@@H](O)CN3C(=O)[C@@H](NC(=O)CCCCCN3CCC4=CC(NC5=NC=C(C6CC6)C(NCCCNC(=O)C6CCC6)=N5)=CC=C4C3)C(C)(C)C)C=C2)SC=N1\n",
            "Predicted TPSA: 9.355637 Actual TPSA: 220.02 SMILES: O=C(CCCCCCNC(=O)COC1=CC=CC2=C1C(=O)N(C1CCC(=O)NC1=O)C2=O)NCCOC1=CC=C(NC2=NC=C3C=CC(=O)N(C4CC5CCC4C5)C3=N2)C=C1\n",
            "Predicted TPSA: 10.33756 Actual TPSA: 233.6 SMILES: CC(C)S(=O)(=O)C1=CC=CC=C1NC1=NC(NC2=CC=C(N3CCN(CCOCCOCCNC(=O)CNC4=CC=C5C(=O)N(C6CCC(=O)NC6=O)C(=O)C5=C4)CC3)C=C2)=NC=C1Cl\n"
          ]
        }
      ]
    },
    {
      "cell_type": "markdown",
      "source": [
        "Reference\n",
        "\n",
        "Ishoey, Mette; Chorn, Someth; Singh, Natesh; Jaeger, Martin G.; Brand, Matthias; Paulk, Joshiawa; Bauer, Sophie; Erb, Michael A.; Parapatics, Katja; Müller, André C.; Bennett, Keiryn L.; Ecker, Gerhard F.; Bradner, James E.; Winter, Georg E. (2018). \"Translation Termination Factor GSPT1 is a Phenotypically Relevant Off-Target of Heterobifunctional Phthalimide Degraders\". ACS Chemical Biology. 13 (3): 553–560. doi:10.1021/acschembio.7b00969"
      ],
      "metadata": {
        "id": "0gfb7Il0j4XE"
      }
    }
  ]
}